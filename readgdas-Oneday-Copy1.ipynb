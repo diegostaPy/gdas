{
 "cells": [
  {
   "cell_type": "code",
   "execution_count": 1,
   "metadata": {},
   "outputs": [
    {
     "name": "stdout",
     "output_type": "stream",
     "text": [
      "fast_funcs not available\n"
     ]
    }
   ],
   "source": [
    "import ARLreader as Ar\n",
    "#import matplotlib.pyplot as plt\n",
    "import datetime\n",
    "import numpy as np\n",
    "import pandas as pd\n",
    "from ftplib import FTP\n"
   ]
  },
  {
   "cell_type": "code",
   "execution_count": 2,
   "metadata": {},
   "outputs": [],
   "source": [
    "ftp = FTP('arlftp.arlhq.noaa.gov')\n",
    "\n",
    "#ftp.connect(\"/pub/archives/gdas1\")\n",
    "#ftp://arlftp.arlhq.noaa.gov/pub/archives/gdas1"
   ]
  },
  {
   "cell_type": "code",
   "execution_count": 3,
   "metadata": {},
   "outputs": [
    {
     "data": {
      "text/plain": [
       "'230 Login successful.'"
      ]
     },
     "execution_count": 3,
     "metadata": {},
     "output_type": "execute_result"
    }
   ],
   "source": [
    "ftp.login() "
   ]
  },
  {
   "cell_type": "code",
   "execution_count": 4,
   "metadata": {},
   "outputs": [
    {
     "data": {
      "text/plain": [
       "'250 Directory successfully changed.'"
      ]
     },
     "execution_count": 4,
     "metadata": {},
     "output_type": "execute_result"
    }
   ],
   "source": [
    "ftp.cwd('/pub/archives/gdas1') "
   ]
  },
  {
   "cell_type": "code",
   "execution_count": 2,
   "metadata": {},
   "outputs": [],
   "source": [
    "t=datetime.datetime.now()\n",
    "t_=t-datetime.timedelta(days=1)\n",
    "date = datetime.datetime(t_.year, t_.month, t_.day)\n",
    "filename=Ar.fname_from_date(date)"
   ]
  },
  {
   "cell_type": "code",
   "execution_count": 9,
   "metadata": {},
   "outputs": [],
   "source": [
    "dt =date\n",
    "step = datetime.timedelta(hours=3)\n",
    "dates= []\n",
    "dia=date.day\n",
    "while dt.day==dia:\n",
    "    dates.append(dt)\n",
    "    dt += step"
   ]
  },
  {
   "cell_type": "code",
   "execution_count": 10,
   "metadata": {},
   "outputs": [
    {
     "data": {
      "text/plain": [
       "[datetime.datetime(2021, 7, 4, 0, 0),\n",
       " datetime.datetime(2021, 7, 4, 3, 0),\n",
       " datetime.datetime(2021, 7, 4, 6, 0),\n",
       " datetime.datetime(2021, 7, 4, 9, 0),\n",
       " datetime.datetime(2021, 7, 4, 12, 0),\n",
       " datetime.datetime(2021, 7, 4, 15, 0),\n",
       " datetime.datetime(2021, 7, 4, 18, 0),\n",
       " datetime.datetime(2021, 7, 4, 21, 0)]"
      ]
     },
     "execution_count": 10,
     "metadata": {},
     "output_type": "execute_result"
    }
   ],
   "source": [
    "dates"
   ]
  },
  {
   "cell_type": "code",
   "execution_count": null,
   "metadata": {},
   "outputs": [],
   "source": [
    "with open('datos/'+filename, 'wb') as fp:\n",
    "    ftp.retrbinary('RETR '+filename, fp.write)"
   ]
  },
  {
   "cell_type": "code",
   "execution_count": null,
   "metadata": {},
   "outputs": [],
   "source": [
    "ftp.quit()"
   ]
  },
  {
   "cell_type": "code",
   "execution_count": null,
   "metadata": {},
   "outputs": [],
   "source": [
    "Teff=[]\n",
    "Tg=[]\n",
    "Pg=[]\n",
    "\n",
    "for date in dates:\n",
    "\n",
    "    profile, sfcdata, indexinfo, ind = Ar.reader('datos/'+filename).load_profile(date.day, date.hour, ( -25.331270,-57.516597),sfc=True, flag_interp=True)\n",
    "\n",
    "    T=profile['TEMP']#- 273.15\n",
    "    P=profile['PRSS']    \n",
    "    H=profile['HGTS']\n",
    "    Ts=sfcdata['TMPS']    \n",
    "    Ps=sfcdata['PRSS']\n",
    "\n",
    "    Wun=-np.diff(np.hstack((P,0)))/P[0]\n",
    "    Teff.append(np.sum(Wun*T))\n",
    "    Tg.append(Ts)\n",
    "    Pg.append(Ps)"
   ]
  },
  {
   "cell_type": "code",
   "execution_count": null,
   "metadata": {},
   "outputs": [],
   "source": [
    "#agregar query a la base de datos\n"
   ]
  },
  {
   "cell_type": "code",
   "execution_count": null,
   "metadata": {},
   "outputs": [],
   "source": [
    "dataTeff = pd.DataFrame(list(zip( dates, Teff,Tg,Pg)), \n",
    "               columns =['date', 'teff', 'ts', 'ps']) "
   ]
  },
  {
   "cell_type": "code",
   "execution_count": null,
   "metadata": {},
   "outputs": [],
   "source": []
  }
 ],
 "metadata": {
  "kernelspec": {
   "display_name": "Python 3",
   "language": "python",
   "name": "python3"
  },
  "language_info": {
   "codemirror_mode": {
    "name": "ipython",
    "version": 3
   },
   "file_extension": ".py",
   "mimetype": "text/x-python",
   "name": "python",
   "nbconvert_exporter": "python",
   "pygments_lexer": "ipython3",
   "version": "3.6.8"
  }
 },
 "nbformat": 4,
 "nbformat_minor": 4
}
